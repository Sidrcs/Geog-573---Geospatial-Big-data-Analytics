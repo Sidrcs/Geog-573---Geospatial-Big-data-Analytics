{
 "cells": [
  {
   "cell_type": "markdown",
   "id": "6d854883",
   "metadata": {},
   "source": [
    "### Task1: Calculating length, area, centroid and Minimum bounding box for simple polygon"
   ]
  },
  {
   "cell_type": "code",
   "execution_count": 90,
   "id": "c8d620ef",
   "metadata": {},
   "outputs": [],
   "source": [
    "import sys, os, math, random, json, numpy\n",
    "import matplotlib.pyplot as plt"
   ]
  },
  {
   "cell_type": "code",
   "execution_count": 89,
   "id": "a78a5d0f",
   "metadata": {},
   "outputs": [
    {
     "name": "stdout",
     "output_type": "stream",
     "text": [
      "length:  7.0\n",
      "Area:  6.0\n",
      "Centroid:  (2.0, 1.33)\n",
      "Bounding Box:  [(0, 0), (3, 4)]\n"
     ]
    }
   ],
   "source": [
    "class Point:\n",
    "    def __init__(self,x,y):\n",
    "        self.lon = x # defining lon property to point object\n",
    "        self.lat = y # defining lat property to point object\n",
    "        \n",
    "class Polyline:\n",
    "    def __init__(self, points = []):\n",
    "        self.points = points\n",
    "        \n",
    "    def getLength(self): # Euclidean distance\n",
    "        Length = 0.0\n",
    "        for i in range(len(self.points)-1):\n",
    "            Length += math.sqrt((self.points[i+1].lon-self.points[i].lon)**2 +(self.points[i+1].lat-self.points[i].lat)**2)\n",
    "        return Length\n",
    "\n",
    "class Polygon:\n",
    "    def __init__(self, points = []):\n",
    "        self.points = points\n",
    "        \n",
    "    def getArea(self):\n",
    "        area = 0.0\n",
    "        for i in range(len(self.points)-1):\n",
    "            area += ((self.points[i+1].lon * self.points[i].lat) - (self.points[i].lon * self.points[i+1].lat))\n",
    "        return abs(area)/2\n",
    "    \n",
    "    def getCentroid(self):\n",
    "        area = self.getArea()\n",
    "        \n",
    "        cx = 0.0\n",
    "        cy = 0.0\n",
    "        \n",
    "        for i in range(len(self.points)-1):\n",
    "            value = ((self.points[i].lon * self.points[i+1].lat)-(self.points[i+1].lon * self.points[i].lat))\n",
    "            cx += (self.points[i].lon + self.points[i+1].lon) * value\n",
    "            cy += (self.points[i].lat + self.points[i+1].lat) * value\n",
    "            \n",
    "        cx /= 6 * area\n",
    "        cy /= 6 * area\n",
    "        \n",
    "        return (round(cx,2), round(cy,2))\n",
    "        \n",
    "    def getEnvelop(self):\n",
    "        min_lon = min([point.lon for point in self.points])\n",
    "        min_lat = min([point.lat for point in self.points])\n",
    "        max_lon = max([point.lon for point in self.points])\n",
    "        max_lat = max([point.lat for point in self.points])\n",
    "        return [(min_lon, min_lat), (max_lon, max_lat)]\n",
    "\n",
    "if __name__ == \"__main__\":\n",
    "    pointA=Point(0, 0)\n",
    "    pointB=Point(3, 0)\n",
    "    pointC=Point(3, 4)\n",
    "    pt_list = [pointA,pointB,pointC]\n",
    "    line= Polyline(pt_list)\n",
    "    print (\"length: \", line.getLength())\n",
    "    poly = Polygon(pt_list)\n",
    "    print (\"Area: \", poly.getArea())\n",
    "    print (\"Centroid: \", poly.getCentroid())\n",
    "    print (\"Bounding Box: \", poly.getEnvelop())"
   ]
  },
  {
   "cell_type": "markdown",
   "id": "99ea42ad",
   "metadata": {},
   "source": [
    "### Task 3: K-Means Algorithm"
   ]
  },
  {
   "cell_type": "code",
   "execution_count": 70,
   "id": "fc553754",
   "metadata": {},
   "outputs": [],
   "source": [
    "# creating random centroid values from data_points list \n",
    "def generate_random_centroid(data_points):\n",
    "    return data_points[random.randint(0,len(data_points)-1)]\n",
    "\n",
    "# Euclidean distance between point and centroid\n",
    "def calculate_distance(point, centroid):\n",
    "    distance = math.sqrt((point[0]-centroid[0])**2 + (point[1]-centroid[1])**2)\n",
    "    return distance\n",
    "\n",
    "# updating centroid with cluster labels (need understanding of this loop ! + what's read and what's happening)\n",
    "def update_centroid(data_points, cluster_labels, cluster):\n",
    "    sum_x = 0\n",
    "    sum_y = 0\n",
    "    count = 0\n",
    "    for point in data_points:\n",
    "        if cluster_labels[point] == cluster:\n",
    "            sum_x += point[0]\n",
    "            sum_y += point[1]\n",
    "            count += 1\n",
    "    if count > 0:\n",
    "        return (sum_x/count, sum_y/count)\n",
    "    else:\n",
    "        return generate_random_centroid(data_points)"
   ]
  },
  {
   "cell_type": "code",
   "execution_count": 71,
   "id": "ba4d6f10",
   "metadata": {},
   "outputs": [],
   "source": [
    "def KMeans_Clustering(k, max_iterations, data_points):\n",
    "    centroids={} # create an empty dictionary to store centroids of the clusters\n",
    "    cluster_labels = {} # create an empty dictionary to store the cluster label for each data point\n",
    "    \n",
    "    # Initialize random centroids or choose k points from the input data as the initial centroids\n",
    "    for i in range (k):\n",
    "        centroids[i] = generate_random_centroid(data_points)\n",
    "    \n",
    "    for j in range(max_iterations): \n",
    "        # Assignment: K clusters are created by associating each data point with the nearest centroid.\n",
    "        for eachpoint in data_points:\n",
    "            dist_min = 99999999\n",
    "            for i in range (k):\n",
    "                distance=calculate_distance(eachpoint,centroids[i])\n",
    "                if distance < dist_min:\n",
    "                    dist_min=distance\n",
    "                    cluster_labels[eachpoint]=i\n",
    "        \n",
    "        # Update: Iterate each cluster and compute its new centroid based on current assignment\n",
    "        for i in range (k):\n",
    "            centroids[i] = update_centroid(data_points, cluster_labels, i)\n",
    "        return cluster_labels"
   ]
  },
  {
   "cell_type": "code",
   "execution_count": 84,
   "id": "cd792172",
   "metadata": {},
   "outputs": [
    {
     "data": {
      "image/png": "[encoded data removed]",
      "text/plain": [
       "<Figure size 432x288 with 1 Axes>"
      ]
     },
     "metadata": {
      "needs_background": "light"
     },
     "output_type": "display_data"
    }
   ],
   "source": [
    "# Generate random data points\n",
    "data_points = []\n",
    "total = 20\n",
    "for i in range(0,total):\n",
    "    data_points.append((random.randint(0, 100), random.randint(0, 100)))\n",
    "\n",
    "# Perform KMeans clustering\n",
    "k = 3\n",
    "max_iterations = 100\n",
    "cluster_labels = KMeans_Clustering(k, max_iterations, data_points)\n",
    "\n",
    "# Separate the data points by their cluster label\n",
    "clusters = {}\n",
    "for point, label in cluster_labels.items():\n",
    "    if label not in clusters:\n",
    "        clusters[label] = []\n",
    "    clusters[label].append(point)\n",
    "\n",
    "# Plot the input data points\n",
    "x = [data[0] for data in data_points]\n",
    "y = [data[1] for data in data_points]\n",
    "plt.scatter(x, y, color='blue', label='Input Data')\n",
    "\n",
    "# Plot the output clusters\n",
    "colors = ['red', 'green', 'purple']\n",
    "for label, points in clusters.items():\n",
    "    x, y = [val[0] for val in points], [val[1] for val in points]\n",
    "    plt.scatter(x, y, color=colors[label], label=f'Cluster {label+1}')\n",
    "\n",
    "plt.title(f'KMeans Clustering (k={k})')\n",
    "plt.legend()\n",
    "plt.show()"
   ]
  },
  {
   "cell_type": "code",
   "execution_count": 114,
   "id": "6628df5e",
   "metadata": {},
   "outputs": [
    {
     "data": {
      "text/plain": [
       "[(61, 17),\n",
       " (27, 99),\n",
       " (73, 87),\n",
       " (25, 96),\n",
       " (33, 28),\n",
       " (3, 56),\n",
       " (40, 18),\n",
       " (58, 70),\n",
       " (97, 67),\n",
       " (44, 21),\n",
       " (48, 5),\n",
       " (77, 0),\n",
       " (6, 92),\n",
       " (79, 91),\n",
       " (8, 85),\n",
       " (51, 86),\n",
       " (39, 15),\n",
       " (58, 100),\n",
       " (55, 44),\n",
       " (71, 59)]"
      ]
     },
     "execution_count": 114,
     "metadata": {},
     "output_type": "execute_result"
    }
   ],
   "source": [
    "data_points"
   ]
  },
  {
   "cell_type": "code",
   "execution_count": 115,
   "id": "faa0aa0b",
   "metadata": {},
   "outputs": [],
   "source": [
    "centroids = {}\n",
    "for i in range (3):\n",
    "    centroids[i] = generate_random_centroid(data_points)"
   ]
  },
  {
   "cell_type": "code",
   "execution_count": 135,
   "id": "a1595844",
   "metadata": {
    "scrolled": true
   },
   "outputs": [
    {
     "name": "stdout",
     "output_type": "stream",
     "text": [
      "loop runs:  4600\n"
     ]
    }
   ],
   "source": [
    "centroids={} # create an empty dictionary to store centroids of the clusters\n",
    "cluster_labels = {} # create an empty dictionary to store the cluster label for each data point\n",
    "    \n",
    "# Initialize random centroids or choose k points from the input data as the initial centroids\n",
    "for i in range (3):\n",
    "    centroids[i] = generate_random_centroid(data_points)\n",
    "\n",
    "counter = 0\n",
    "for j in range(100): \n",
    "# Assignment: K clusters are created by associating each data point with the nearest centroid.\n",
    "    for eachpoint in data_points:\n",
    "        #print('each point: ', eachpoint)\n",
    "        dist_min = 99999999\n",
    "        for i in range(3):\n",
    "            distance=calculate_distance(eachpoint,centroids[i])\n",
    "            #print('centroid: ',centroids[i])\n",
    "            if distance < dist_min:\n",
    "                dist_min=distance\n",
    "                #print('distance: ', distance)\n",
    "                cluster_labels[eachpoint]=i\n",
    "                counter = counter + 1 \n",
    "                \n",
    "print('loop runs: ', counter)"
   ]
  },
  {
   "cell_type": "code",
   "execution_count": 136,
   "id": "6d547ba5",
   "metadata": {},
   "outputs": [
    {
     "name": "stdout",
     "output_type": "stream",
     "text": [
      "cluster_labels : {(61, 17): 2, (27, 99): 1, (73, 87): 1, (25, 96): 1, (33, 28): 2, (3, 56): 2, (40, 18): 2, (58, 70): 1, (97, 67): 0, (44, 21): 2, (48, 5): 2, (77, 0): 2, (6, 92): 1, (79, 91): 0, (8, 85): 1, (51, 86): 1, (39, 15): 2, (58, 100): 1, (55, 44): 1, (71, 59): 1},\n",
      " \n",
      " centroids: {0: (97, 67), 1: (71, 59), 2: (39, 15)}\n"
     ]
    }
   ],
   "source": [
    "print(f'cluster_labels : {cluster_labels},\\n \\n centroids: {centroids}')"
   ]
  },
  {
   "cell_type": "code",
   "execution_count": null,
   "id": "4b8994b1",
   "metadata": {},
   "outputs": [],
   "source": []
  }
 ],
 "metadata": {
  "kernelspec": {
   "display_name": "Python 3 (ipykernel)",
   "language": "python",
   "name": "python3"
  },
  "language_info": {
   "codemirror_mode": {
    "name": "ipython",
    "version": 3
   },
   "file_extension": ".py",
   "mimetype": "text/x-python",
   "name": "python",
   "nbconvert_exporter": "python",
   "pygments_lexer": "ipython3",
   "version": "3.9.7"
  }
 },
 "nbformat": 4,
 "nbformat_minor": 5
}
