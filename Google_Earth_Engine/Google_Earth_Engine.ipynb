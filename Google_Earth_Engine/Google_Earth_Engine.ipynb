{
 "cells": [
  {
   "cell_type": "markdown",
   "id": "aac7bd56",
   "metadata": {},
   "source": [
    "### Task 1:  Load the Dane County ZCTA polygons and overlay on Google Earth Engine BaseMap"
   ]
  },
  {
   "cell_type": "code",
   "execution_count": 2,
   "id": "7fc748a0",
   "metadata": {},
   "outputs": [
    {
     "data": {
      "text/html": [
       "<p>To authorize access needed by Earth Engine, open the following\n",
       "        URL in a web browser and follow the instructions:</p>\n",
       "        <p><a href=https://code.earthengine.google.com/client-auth?scopes=https%3A//www.googleapis.com/auth/earthengine%20https%3A//www.googleapis.com/auth/devstorage.full_control&request_id=0AEYbigG2GVRVs2pRTZf61lf0WlYNC1RKkAB3U_uxMg&tc=IiarIFrD2kC1ZQ71O0jxCgMpJDQ46MC726_3XzTJ0lg&cc=MReYQGCSkJaj0psc9Buc9pfCL1_rIGdigLnhs0MQH0A>https://code.earthengine.google.com/client-auth?scopes=https%3A//www.googleapis.com/auth/earthengine%20https%3A//www.googleapis.com/auth/devstorage.full_control&request_id=0AEYbigG2GVRVs2pRTZf61lf0WlYNC1RKkAB3U_uxMg&tc=IiarIFrD2kC1ZQ71O0jxCgMpJDQ46MC726_3XzTJ0lg&cc=MReYQGCSkJaj0psc9Buc9pfCL1_rIGdigLnhs0MQH0A</a></p>\n",
       "        <p>The authorization workflow will generate a code, which you should paste in the box below.</p>\n",
       "        "
      ],
      "text/plain": [
       "<IPython.core.display.HTML object>"
      ]
     },
     "metadata": {},
     "output_type": "display_data"
    },
    {
     "name": "stdout",
     "output_type": "stream",
     "text": [
      "Enter verification code: 4/1AVHEtk7cjssIL1_8ZtLIu95IWc8u35wVYqNNNj0RFpbtfIcV4sxqw7L4WWU\n",
      "\n",
      "Successfully saved authorization token.\n"
     ]
    }
   ],
   "source": [
    "import ee\n",
    "ee.Authenticate()"
   ]
  },
  {
   "cell_type": "code",
   "execution_count": 13,
   "id": "fca0d3cf",
   "metadata": {
    "scrolled": false
   },
   "outputs": [
    {
     "data": {
      "application/vnd.jupyter.widget-view+json": {
       "model_id": "c5902f6fed0c4310a02ad09a7d9976a7",
       "version_major": 2,
       "version_minor": 0
      },
      "text/plain": [
       "Map(center=[20, 0], controls=(WidgetControl(options=['position', 'transparent_bg'], widget=HBox(children=(Togg…"
      ]
     },
     "metadata": {},
     "output_type": "display_data"
    }
   ],
   "source": [
    "import geemap\n",
    "Map = geemap.Map()\n",
    "Map"
   ]
  },
  {
   "cell_type": "code",
   "execution_count": 100,
   "id": "5af90e16",
   "metadata": {},
   "outputs": [
    {
     "data": {
      "application/vnd.jupyter.widget-view+json": {
       "model_id": "b1de2e31aa4146a887176c73c6ccc293",
       "version_major": 2,
       "version_minor": 0
      },
      "text/plain": [
       "Map(center=[43.07585698391842, -89.40091425818218], controls=(WidgetControl(options=['position', 'transparent_…"
      ]
     },
     "metadata": {},
     "output_type": "display_data"
    }
   ],
   "source": [
    "#Adding map to display\n",
    "Map = geemap.Map()\n",
    "#Adding Dane county ZCTA shapefile\n",
    "dane_shp = r'D:\\CourseWork_GIS_2022\\Geog 573 - Geospatial Big data Analytics\\Lab3\\ZCTAs_DaneCounty\\ZCTAs_DaneCounty.shp'\n",
    "dane_zcta = geemap.shp_to_ee(dane_shp)\n",
    "Map.setCenter(-89.40091425818218,43.07585698391842, 9)\n",
    "style = {'color': '#993404', 'width': 1, 'lineType': 'solid', 'fillColor': '#fec44f'}\n",
    "Map.add_basemap(\"Esri.WorldGrayCanvas\") #ESRI Gray base map\n",
    "Map.addLayer(dane_zcta.style(**style), {}, 'Dane Zipcodes')\n",
    "Map"
   ]
  },
  {
   "cell_type": "markdown",
   "id": "1037d805",
   "metadata": {},
   "source": [
    "### Task 2: Calculate Zonal Statitics for Dane County (2016, 2022)"
   ]
  },
  {
   "cell_type": "code",
   "execution_count": 27,
   "id": "d877d5df",
   "metadata": {},
   "outputs": [
    {
     "data": {
      "application/vnd.jupyter.widget-view+json": {
       "model_id": "88f0cad093a4403eb7c920d51f67b8d7",
       "version_major": 2,
       "version_minor": 0
      },
      "text/plain": [
       "Map(center=[20, 0], controls=(WidgetControl(options=['position', 'transparent_bg'], widget=HBox(children=(Togg…"
      ]
     },
     "metadata": {},
     "output_type": "display_data"
    }
   ],
   "source": [
    "import ee\n",
    "import geemap\n",
    "\n",
    "Map = geemap.Map()\n",
    "Map.add_basemap('HYBRID')\n",
    "Map"
   ]
  },
  {
   "cell_type": "code",
   "execution_count": 28,
   "id": "81794e1e",
   "metadata": {},
   "outputs": [],
   "source": [
    "# Setting the region of interest using map extent (NE, SW values)\n",
    "region = Map.user_roi\n",
    "if region is None:\n",
    "    #Dane county North east, South west coordinates\n",
    "    region = ee.Geometry.BBox(-89.7088, 42.9006, -89.0647, 43.2167)\n",
    "Map.centerObject(region)"
   ]
  },
  {
   "cell_type": "code",
   "execution_count": 29,
   "id": "e91f6a3b",
   "metadata": {},
   "outputs": [],
   "source": [
    "# Set the date range for query\n",
    "start_date = '2016-01-01'\n",
    "end_date = '2016-12-31'"
   ]
  },
  {
   "cell_type": "code",
   "execution_count": 30,
   "id": "cc0b381c",
   "metadata": {},
   "outputs": [
    {
     "data": {
      "application/vnd.jupyter.widget-view+json": {
       "model_id": "88f0cad093a4403eb7c920d51f67b8d7",
       "version_major": 2,
       "version_minor": 0
      },
      "text/plain": [
       "Map(bottom=96556.0, center=[43.068887774169625, -89.296875], controls=(WidgetControl(options=['position', 'tra…"
      ]
     },
     "metadata": {},
     "output_type": "display_data"
    }
   ],
   "source": [
    "# Dynamic World land cover composite\n",
    "landcover = geemap.dynamic_world(region, start_date, end_date, return_type = 'hillshade')\n",
    "Map.addLayer(landcover, {}, 'Land Cover')\n",
    "\n",
    "# Add legend to the map\n",
    "Map.add_legend(title = 'Dynamic World Land Cover', builtin_legend = 'Dynamic_World')\n",
    "Map.centerObject(region)\n",
    "Map"
   ]
  },
  {
   "cell_type": "code",
   "execution_count": 35,
   "id": "0a5f5c9c",
   "metadata": {},
   "outputs": [
    {
     "name": "stdout",
     "output_type": "stream",
     "text": [
      "Calculating area for group 0 ...\n",
      "Calculating area for group 1 ...\n",
      "Calculating area for group 2 ...\n",
      "Calculating area for group 3 ...\n",
      "Calculating area for group 4 ...\n",
      "Calculating area for group 5 ...\n",
      "Calculating area for group 6 ...\n",
      "Calculating area for group 7 ...\n",
      "Calculating area for group 8 ...\n"
     ]
    },
    {
     "data": {
      "text/html": [
       "<div>\n",
       "<style scoped>\n",
       "    .dataframe tbody tr th:only-of-type {\n",
       "        vertical-align: middle;\n",
       "    }\n",
       "\n",
       "    .dataframe tbody tr th {\n",
       "        vertical-align: top;\n",
       "    }\n",
       "\n",
       "    .dataframe thead th {\n",
       "        text-align: right;\n",
       "    }\n",
       "</style>\n",
       "<table border=\"1\" class=\"dataframe\">\n",
       "  <thead>\n",
       "    <tr style=\"text-align: right;\">\n",
       "      <th></th>\n",
       "      <th>area</th>\n",
       "      <th>percentage</th>\n",
       "    </tr>\n",
       "    <tr>\n",
       "      <th>group</th>\n",
       "      <th></th>\n",
       "      <th></th>\n",
       "    </tr>\n",
       "  </thead>\n",
       "  <tbody>\n",
       "    <tr>\n",
       "      <th>0</th>\n",
       "      <td>93.0558</td>\n",
       "      <td>0.0505</td>\n",
       "    </tr>\n",
       "    <tr>\n",
       "      <th>1</th>\n",
       "      <td>465.8921</td>\n",
       "      <td>0.2528</td>\n",
       "    </tr>\n",
       "    <tr>\n",
       "      <th>2</th>\n",
       "      <td>131.8860</td>\n",
       "      <td>0.0716</td>\n",
       "    </tr>\n",
       "    <tr>\n",
       "      <th>3</th>\n",
       "      <td>2.8323</td>\n",
       "      <td>0.0015</td>\n",
       "    </tr>\n",
       "    <tr>\n",
       "      <th>4</th>\n",
       "      <td>771.4642</td>\n",
       "      <td>0.4187</td>\n",
       "    </tr>\n",
       "    <tr>\n",
       "      <th>5</th>\n",
       "      <td>11.9282</td>\n",
       "      <td>0.0065</td>\n",
       "    </tr>\n",
       "    <tr>\n",
       "      <th>6</th>\n",
       "      <td>355.4726</td>\n",
       "      <td>0.1929</td>\n",
       "    </tr>\n",
       "    <tr>\n",
       "      <th>7</th>\n",
       "      <td>7.9090</td>\n",
       "      <td>0.0043</td>\n",
       "    </tr>\n",
       "    <tr>\n",
       "      <th>8</th>\n",
       "      <td>2.1540</td>\n",
       "      <td>0.0012</td>\n",
       "    </tr>\n",
       "  </tbody>\n",
       "</table>\n",
       "</div>"
      ],
      "text/plain": [
       "           area  percentage\n",
       "group                      \n",
       "0       93.0558      0.0505\n",
       "1      465.8921      0.2528\n",
       "2      131.8860      0.0716\n",
       "3        2.8323      0.0015\n",
       "4      771.4642      0.4187\n",
       "5       11.9282      0.0065\n",
       "6      355.4726      0.1929\n",
       "7        7.9090      0.0043\n",
       "8        2.1540      0.0012"
      ]
     },
     "execution_count": 35,
     "metadata": {},
     "output_type": "execute_result"
    }
   ],
   "source": [
    "## Return \"class\" images for further zonal summary analysis \n",
    "classes = geemap.dynamic_world(region, start_date, end_date, return_type='class')\n",
    "df_2016 = geemap.image_area_by_group(classes, region=region, scale=10, denominator=1e6)\n",
    "df_2016"
   ]
  },
  {
   "cell_type": "code",
   "execution_count": 36,
   "id": "403e64a0",
   "metadata": {},
   "outputs": [],
   "source": [
    "# Set the date range to query the data\n",
    "start_date = '2022-01-01'\n",
    "end_date = '2022-12-31'"
   ]
  },
  {
   "cell_type": "code",
   "execution_count": 61,
   "id": "66562df4",
   "metadata": {},
   "outputs": [],
   "source": [
    "landcover = geemap.dynamic_world(region, start_date, end_date, return_type='hillshade')\n",
    "Map.addLayer(landcover, {}, 'Land Cover')"
   ]
  },
  {
   "cell_type": "code",
   "execution_count": 38,
   "id": "4e1e22e7",
   "metadata": {},
   "outputs": [
    {
     "name": "stdout",
     "output_type": "stream",
     "text": [
      "Calculating area for group 0 ...\n",
      "Calculating area for group 1 ...\n",
      "Calculating area for group 2 ...\n",
      "Calculating area for group 3 ...\n",
      "Calculating area for group 4 ...\n",
      "Calculating area for group 5 ...\n",
      "Calculating area for group 6 ...\n",
      "Calculating area for group 7 ...\n",
      "Calculating area for group 8 ...\n"
     ]
    },
    {
     "data": {
      "text/html": [
       "<div>\n",
       "<style scoped>\n",
       "    .dataframe tbody tr th:only-of-type {\n",
       "        vertical-align: middle;\n",
       "    }\n",
       "\n",
       "    .dataframe tbody tr th {\n",
       "        vertical-align: top;\n",
       "    }\n",
       "\n",
       "    .dataframe thead th {\n",
       "        text-align: right;\n",
       "    }\n",
       "</style>\n",
       "<table border=\"1\" class=\"dataframe\">\n",
       "  <thead>\n",
       "    <tr style=\"text-align: right;\">\n",
       "      <th></th>\n",
       "      <th>area</th>\n",
       "      <th>percentage</th>\n",
       "    </tr>\n",
       "    <tr>\n",
       "      <th>group</th>\n",
       "      <th></th>\n",
       "      <th></th>\n",
       "    </tr>\n",
       "  </thead>\n",
       "  <tbody>\n",
       "    <tr>\n",
       "      <th>0</th>\n",
       "      <td>93.0558</td>\n",
       "      <td>0.0505</td>\n",
       "    </tr>\n",
       "    <tr>\n",
       "      <th>1</th>\n",
       "      <td>465.8921</td>\n",
       "      <td>0.2528</td>\n",
       "    </tr>\n",
       "    <tr>\n",
       "      <th>2</th>\n",
       "      <td>131.8860</td>\n",
       "      <td>0.0716</td>\n",
       "    </tr>\n",
       "    <tr>\n",
       "      <th>3</th>\n",
       "      <td>2.8323</td>\n",
       "      <td>0.0015</td>\n",
       "    </tr>\n",
       "    <tr>\n",
       "      <th>4</th>\n",
       "      <td>771.4642</td>\n",
       "      <td>0.4187</td>\n",
       "    </tr>\n",
       "    <tr>\n",
       "      <th>5</th>\n",
       "      <td>11.9282</td>\n",
       "      <td>0.0065</td>\n",
       "    </tr>\n",
       "    <tr>\n",
       "      <th>6</th>\n",
       "      <td>355.4726</td>\n",
       "      <td>0.1929</td>\n",
       "    </tr>\n",
       "    <tr>\n",
       "      <th>7</th>\n",
       "      <td>7.9090</td>\n",
       "      <td>0.0043</td>\n",
       "    </tr>\n",
       "    <tr>\n",
       "      <th>8</th>\n",
       "      <td>2.1540</td>\n",
       "      <td>0.0012</td>\n",
       "    </tr>\n",
       "  </tbody>\n",
       "</table>\n",
       "</div>"
      ],
      "text/plain": [
       "           area  percentage\n",
       "group                      \n",
       "0       93.0558      0.0505\n",
       "1      465.8921      0.2528\n",
       "2      131.8860      0.0716\n",
       "3        2.8323      0.0015\n",
       "4      771.4642      0.4187\n",
       "5       11.9282      0.0065\n",
       "6      355.4726      0.1929\n",
       "7        7.9090      0.0043\n",
       "8        2.1540      0.0012"
      ]
     },
     "execution_count": 38,
     "metadata": {},
     "output_type": "execute_result"
    }
   ],
   "source": [
    "## Return \"class\" images for further zonal summary analysis\n",
    "classes = geemap.dynamic_world(region, start_date, end_date, return_type='class')\n",
    "df_2022 = geemap.image_area_by_group(classes, region=region, scale=10, denominator=1e6)\n",
    "df_2022"
   ]
  },
  {
   "cell_type": "code",
   "execution_count": 47,
   "id": "48044a9e",
   "metadata": {},
   "outputs": [
    {
     "data": {
      "text/html": [
       "<div>\n",
       "<style scoped>\n",
       "    .dataframe tbody tr th:only-of-type {\n",
       "        vertical-align: middle;\n",
       "    }\n",
       "\n",
       "    .dataframe tbody tr th {\n",
       "        vertical-align: top;\n",
       "    }\n",
       "\n",
       "    .dataframe thead th {\n",
       "        text-align: right;\n",
       "    }\n",
       "</style>\n",
       "<table border=\"1\" class=\"dataframe\">\n",
       "  <thead>\n",
       "    <tr style=\"text-align: right;\">\n",
       "      <th></th>\n",
       "      <th>area_2016</th>\n",
       "      <th>percentage_2016</th>\n",
       "    </tr>\n",
       "    <tr>\n",
       "      <th>group</th>\n",
       "      <th></th>\n",
       "      <th></th>\n",
       "    </tr>\n",
       "  </thead>\n",
       "  <tbody>\n",
       "    <tr>\n",
       "      <th>0</th>\n",
       "      <td>93.0558</td>\n",
       "      <td>0.0505</td>\n",
       "    </tr>\n",
       "  </tbody>\n",
       "</table>\n",
       "</div>"
      ],
      "text/plain": [
       "       area_2016  percentage_2016\n",
       "group                            \n",
       "0        93.0558           0.0505"
      ]
     },
     "execution_count": 47,
     "metadata": {},
     "output_type": "execute_result"
    }
   ],
   "source": [
    "df_2016 = df_2016.rename(columns = {'percentage':'percentage_2016', 'area':'area_2016'})\n",
    "df_2016.head(1)"
   ]
  },
  {
   "cell_type": "code",
   "execution_count": 48,
   "id": "e20df4ba",
   "metadata": {},
   "outputs": [
    {
     "data": {
      "text/html": [
       "<div>\n",
       "<style scoped>\n",
       "    .dataframe tbody tr th:only-of-type {\n",
       "        vertical-align: middle;\n",
       "    }\n",
       "\n",
       "    .dataframe tbody tr th {\n",
       "        vertical-align: top;\n",
       "    }\n",
       "\n",
       "    .dataframe thead th {\n",
       "        text-align: right;\n",
       "    }\n",
       "</style>\n",
       "<table border=\"1\" class=\"dataframe\">\n",
       "  <thead>\n",
       "    <tr style=\"text-align: right;\">\n",
       "      <th></th>\n",
       "      <th>area_2022</th>\n",
       "      <th>percentage_2022</th>\n",
       "    </tr>\n",
       "    <tr>\n",
       "      <th>group</th>\n",
       "      <th></th>\n",
       "      <th></th>\n",
       "    </tr>\n",
       "  </thead>\n",
       "  <tbody>\n",
       "    <tr>\n",
       "      <th>0</th>\n",
       "      <td>93.0558</td>\n",
       "      <td>0.0505</td>\n",
       "    </tr>\n",
       "  </tbody>\n",
       "</table>\n",
       "</div>"
      ],
      "text/plain": [
       "       area_2022  percentage_2022\n",
       "group                            \n",
       "0        93.0558           0.0505"
      ]
     },
     "execution_count": 48,
     "metadata": {},
     "output_type": "execute_result"
    }
   ],
   "source": [
    "df_2022 = df_2022.rename(columns = {'percentage':'percentage_2022', 'area':'area_2022'})\n",
    "df_2022.head(1)"
   ]
  },
  {
   "cell_type": "code",
   "execution_count": 55,
   "id": "b0adf9f8",
   "metadata": {},
   "outputs": [],
   "source": [
    "import pandas as pd\n",
    "list_types = ['water','Trees','Grass','Flooded vegetation','crops','Shrub & Scrub','Built-up area','Bare ground','Snow & Ice']\n",
    "zonal_stats_df = pd.DataFrame(\n",
    "    {'group' : list_types,\n",
    "    'area_2016' : list(df_2016['area_2016']),\n",
    "    'percentage_2016' : list(df_2016['percentage_2016']),\n",
    "    'area_2022' : list(df_2022['area_2022']),\n",
    "    'percentage_2022' : list(df_2022['percentage_2022'])\n",
    "    })"
   ]
  },
  {
   "cell_type": "code",
   "execution_count": 59,
   "id": "427549a6",
   "metadata": {},
   "outputs": [],
   "source": [
    "zonal_stats_df['% change'] = zonal_stats_df.apply(lambda x : (x['percentage_2016'] - x['percentage_2022']), axis = 1)"
   ]
  },
  {
   "cell_type": "code",
   "execution_count": 60,
   "id": "28f9f60c",
   "metadata": {},
   "outputs": [
    {
     "data": {
      "text/html": [
       "<div>\n",
       "<style scoped>\n",
       "    .dataframe tbody tr th:only-of-type {\n",
       "        vertical-align: middle;\n",
       "    }\n",
       "\n",
       "    .dataframe tbody tr th {\n",
       "        vertical-align: top;\n",
       "    }\n",
       "\n",
       "    .dataframe thead th {\n",
       "        text-align: right;\n",
       "    }\n",
       "</style>\n",
       "<table border=\"1\" class=\"dataframe\">\n",
       "  <thead>\n",
       "    <tr style=\"text-align: right;\">\n",
       "      <th></th>\n",
       "      <th>group</th>\n",
       "      <th>area_2016</th>\n",
       "      <th>percentage_2016</th>\n",
       "      <th>area_2022</th>\n",
       "      <th>percentage_2022</th>\n",
       "      <th>% change</th>\n",
       "    </tr>\n",
       "  </thead>\n",
       "  <tbody>\n",
       "    <tr>\n",
       "      <th>0</th>\n",
       "      <td>water</td>\n",
       "      <td>93.0558</td>\n",
       "      <td>0.0505</td>\n",
       "      <td>93.0558</td>\n",
       "      <td>0.0505</td>\n",
       "      <td>0.0</td>\n",
       "    </tr>\n",
       "    <tr>\n",
       "      <th>1</th>\n",
       "      <td>Trees</td>\n",
       "      <td>465.8921</td>\n",
       "      <td>0.2528</td>\n",
       "      <td>465.8921</td>\n",
       "      <td>0.2528</td>\n",
       "      <td>0.0</td>\n",
       "    </tr>\n",
       "    <tr>\n",
       "      <th>2</th>\n",
       "      <td>Grass</td>\n",
       "      <td>131.8860</td>\n",
       "      <td>0.0716</td>\n",
       "      <td>131.8860</td>\n",
       "      <td>0.0716</td>\n",
       "      <td>0.0</td>\n",
       "    </tr>\n",
       "    <tr>\n",
       "      <th>3</th>\n",
       "      <td>Flooded vegetation</td>\n",
       "      <td>2.8323</td>\n",
       "      <td>0.0015</td>\n",
       "      <td>2.8323</td>\n",
       "      <td>0.0015</td>\n",
       "      <td>0.0</td>\n",
       "    </tr>\n",
       "    <tr>\n",
       "      <th>4</th>\n",
       "      <td>crops</td>\n",
       "      <td>771.4642</td>\n",
       "      <td>0.4187</td>\n",
       "      <td>771.4642</td>\n",
       "      <td>0.4187</td>\n",
       "      <td>0.0</td>\n",
       "    </tr>\n",
       "    <tr>\n",
       "      <th>5</th>\n",
       "      <td>Shrub &amp; Scrub</td>\n",
       "      <td>11.9282</td>\n",
       "      <td>0.0065</td>\n",
       "      <td>11.9282</td>\n",
       "      <td>0.0065</td>\n",
       "      <td>0.0</td>\n",
       "    </tr>\n",
       "    <tr>\n",
       "      <th>6</th>\n",
       "      <td>Built-up area</td>\n",
       "      <td>355.4726</td>\n",
       "      <td>0.1929</td>\n",
       "      <td>355.4726</td>\n",
       "      <td>0.1929</td>\n",
       "      <td>0.0</td>\n",
       "    </tr>\n",
       "    <tr>\n",
       "      <th>7</th>\n",
       "      <td>Bare ground</td>\n",
       "      <td>7.9090</td>\n",
       "      <td>0.0043</td>\n",
       "      <td>7.9090</td>\n",
       "      <td>0.0043</td>\n",
       "      <td>0.0</td>\n",
       "    </tr>\n",
       "    <tr>\n",
       "      <th>8</th>\n",
       "      <td>Snow &amp; Ice</td>\n",
       "      <td>2.1540</td>\n",
       "      <td>0.0012</td>\n",
       "      <td>2.1540</td>\n",
       "      <td>0.0012</td>\n",
       "      <td>0.0</td>\n",
       "    </tr>\n",
       "  </tbody>\n",
       "</table>\n",
       "</div>"
      ],
      "text/plain": [
       "                group  area_2016  percentage_2016  area_2022  percentage_2022  \\\n",
       "0               water    93.0558           0.0505    93.0558           0.0505   \n",
       "1               Trees   465.8921           0.2528   465.8921           0.2528   \n",
       "2               Grass   131.8860           0.0716   131.8860           0.0716   \n",
       "3  Flooded vegetation     2.8323           0.0015     2.8323           0.0015   \n",
       "4               crops   771.4642           0.4187   771.4642           0.4187   \n",
       "5       Shrub & Scrub    11.9282           0.0065    11.9282           0.0065   \n",
       "6       Built-up area   355.4726           0.1929   355.4726           0.1929   \n",
       "7         Bare ground     7.9090           0.0043     7.9090           0.0043   \n",
       "8          Snow & Ice     2.1540           0.0012     2.1540           0.0012   \n",
       "\n",
       "   % change  \n",
       "0       0.0  \n",
       "1       0.0  \n",
       "2       0.0  \n",
       "3       0.0  \n",
       "4       0.0  \n",
       "5       0.0  \n",
       "6       0.0  \n",
       "7       0.0  \n",
       "8       0.0  "
      ]
     },
     "execution_count": 60,
     "metadata": {},
     "output_type": "execute_result"
    }
   ],
   "source": [
    "zonal_stats_df"
   ]
  },
  {
   "cell_type": "markdown",
   "id": "61ec2a88",
   "metadata": {},
   "source": [
    "Between 2016 and 2022, there are no changes visible using Dynamic World data"
   ]
  },
  {
   "cell_type": "code",
   "execution_count": 90,
   "id": "4d7b5b18",
   "metadata": {},
   "outputs": [],
   "source": [
    "zonal_df = zonal_stats_df.drop(['area_2016', 'area_2022', '% change'], axis = 1)\n",
    "zonal_df = zonal_df.rename(columns = {'group':'classes'})\n",
    "zonal_df.index.name = ''\n",
    "zonal_stats_dict = zonal_df.to_dict()"
   ]
  },
  {
   "cell_type": "code",
   "execution_count": 91,
   "id": "26a18d39",
   "metadata": {},
   "outputs": [
    {
     "data": {
      "text/plain": [
       "{'classes': {0: 'water',\n",
       "  1: 'Trees',\n",
       "  2: 'Grass',\n",
       "  3: 'Flooded vegetation',\n",
       "  4: 'crops',\n",
       "  5: 'Shrub & Scrub',\n",
       "  6: 'Built-up area',\n",
       "  7: 'Bare ground',\n",
       "  8: 'Snow & Ice'},\n",
       " 'percentage_2016': {0: 0.0505,\n",
       "  1: 0.2528,\n",
       "  2: 0.0716,\n",
       "  3: 0.0015,\n",
       "  4: 0.4187,\n",
       "  5: 0.0065,\n",
       "  6: 0.1929,\n",
       "  7: 0.0043,\n",
       "  8: 0.0012},\n",
       " 'percentage_2022': {0: 0.0505,\n",
       "  1: 0.2528,\n",
       "  2: 0.0716,\n",
       "  3: 0.0015,\n",
       "  4: 0.4187,\n",
       "  5: 0.0065,\n",
       "  6: 0.1929,\n",
       "  7: 0.0043,\n",
       "  8: 0.0012}}"
      ]
     },
     "execution_count": 91,
     "metadata": {},
     "output_type": "execute_result"
    }
   ],
   "source": [
    "#Required dictionary for two time periods based on class is published\n",
    "zonal_stats_dict"
   ]
  },
  {
   "cell_type": "markdown",
   "id": "09ec6462",
   "metadata": {},
   "source": [
    "### Task 3: Normalized Difference Vegetation Index (NDVI)"
   ]
  },
  {
   "cell_type": "code",
   "execution_count": 68,
   "id": "84e6c9fa",
   "metadata": {},
   "outputs": [
    {
     "data": {
      "application/vnd.jupyter.widget-view+json": {
       "model_id": "198e846bbacb4a4da41ece487c6f87a0",
       "version_major": 2,
       "version_minor": 0
      },
      "text/plain": [
       "Map(center=[37.471602850590656, -122.14451407746262], controls=(WidgetControl(options=['position', 'transparen…"
      ]
     },
     "metadata": {},
     "output_type": "display_data"
    }
   ],
   "source": [
    "#Input image from Landsat for study area (Fremont, California)\n",
    "image = ee.Image('LANDSAT/LC08/C01/T1_TOA/LC08_044034_20140318')\n",
    "Map = geemap.Map()\n",
    "#Zoom level 9 | Higher the value, more the zoom\n",
    "Map.centerObject(image, 9)\n",
    "#Selecting B4 - Green, B5 - Red, B6 - Near Infrared (NIR) for display\n",
    "Map.addLayer(image, {'bands': ['B6', 'B5', 'B4']}, 'Landsat 8')\n",
    "Map"
   ]
  },
  {
   "cell_type": "code",
   "execution_count": 69,
   "id": "cb22bd5f",
   "metadata": {},
   "outputs": [
    {
     "data": {
      "application/vnd.jupyter.widget-view+json": {
       "model_id": "198e846bbacb4a4da41ece487c6f87a0",
       "version_major": 2,
       "version_minor": 0
      },
      "text/plain": [
       "Map(bottom=51101.0, center=[37.471602850590656, -122.14451407746262], controls=(WidgetControl(options=['positi…"
      ]
     },
     "metadata": {},
     "output_type": "display_data"
    }
   ],
   "source": [
    "#Selecting NIR, Red bands from Lansat 8 imagery\n",
    "NIR = image.select('B5')\n",
    "Red = image.select('B4')\n",
    "\n",
    "#Formula NDVI = (NIR band - Red band) / (NIR band + Red band)\n",
    "NDVI = NIR.subtract(Red).divide(NIR.add(Red))\n",
    "\n",
    "#color palette to display the NDVI for the study area (from GEE Map)\n",
    "palette = [\n",
    "    'FFFFFF', 'CE7E45', 'DF923D', 'F1B555', 'FCD163', '99B718', '74A901',\n",
    "    '66A000', '529400', '3E8601', '207401', '056201', '004C00', '023B01',\n",
    "    '012E01', '011D01', '011301']\n",
    "\n",
    "#Adding it as a map layer with palette and annotation\n",
    "Map.addLayer(NDVI, {'palette': palette}, \"NDVI Landsat 8\")\n",
    "#displaying the layer on the map\n",
    "Map"
   ]
  },
  {
   "cell_type": "markdown",
   "id": "99fd63d9",
   "metadata": {},
   "source": [
    "### Task 4: Landsat Timeline Animation GIF"
   ]
  },
  {
   "cell_type": "code",
   "execution_count": 79,
   "id": "f5b75692",
   "metadata": {},
   "outputs": [
    {
     "data": {
      "application/vnd.jupyter.widget-view+json": {
       "model_id": "d3fa522cef5741e2804acaec60ef6254",
       "version_major": 2,
       "version_minor": 0
      },
      "text/plain": [
       "Map(center=[20, 0], controls=(WidgetControl(options=['position', 'transparent_bg'], widget=HBox(children=(Togg…"
      ]
     },
     "metadata": {},
     "output_type": "display_data"
    }
   ],
   "source": [
    "Map = geemap.Map()\n",
    "Map.add_basemap('HYBRID')\n",
    "# Region of interest is Las Vegas, Nevada (Whole extent is considered for analysis)\n",
    "region = Map.user_roi\n",
    "if region is None:\n",
    "    region = ee.Geometry.BBox(-115.3618, 36.3760, -114.8327, 35.9659)\n",
    "Map.centerObject(region)\n",
    "# Set the date range\n",
    "start_date = '1985-01-01'\n",
    "end_date = '2022-12-31'\n",
    "#images are taken from Dynamic World with quaterly frequency\n",
    "images = geemap.dynamic_world_timeseries(\n",
    "    region, start_date, end_date, frequency=\"quarter\", return_type=\"hillshade\"\n",
    ")\n",
    "#images are added to map\n",
    "Map.addLayer(images)\n",
    "Map.add_legend(title=\"Dynamic World Land Cover\", builtin_legend='Dynamic_World')\n",
    "Map"
   ]
  },
  {
   "cell_type": "code",
   "execution_count": 80,
   "id": "025a93b2",
   "metadata": {
    "scrolled": true
   },
   "outputs": [
    {
     "data": {
      "application/vnd.jupyter.widget-view+json": {
       "model_id": "29ec363adec443deb0226c893006feb1",
       "version_major": 2,
       "version_minor": 0
      },
      "text/plain": [
       "Map(center=[20, 0], controls=(WidgetControl(options=['position', 'transparent_bg'], widget=Dropdown(layout=Lay…"
      ]
     },
     "metadata": {},
     "output_type": "display_data"
    }
   ],
   "source": [
    "#Adding map and basemap\n",
    "Map = geemap.Map()\n",
    "Map.add_basemap('HYBRID')\n",
    "#Centering the map over the region\n",
    "Map.centerObject(region)\n",
    "#Adding juxtapose legend between 07/15 to 12/22\n",
    "Map.ts_inspector(images, date_format='YYYY-MM')\n",
    "Map.add_legend(title=\"Dynamic World Land Cover\", builtin_legend='Dynamic_World')\n",
    "#Map display\n",
    "Map"
   ]
  },
  {
   "cell_type": "code",
   "execution_count": 101,
   "id": "5f355e23",
   "metadata": {
    "scrolled": true
   },
   "outputs": [
    {
     "name": "stdout",
     "output_type": "stream",
     "text": [
      "Generating URL...\n",
      "Downloading GIF image from https://earthengine.googleapis.com/v1alpha/projects/earthengine-legacy/videoThumbnails/426c5770839240c15e73f36cf0b0efa3-44a7e19184a242fc4b160980c64de389:getPixels\n",
      "Please wait ...\n",
      "The GIF image has been saved to: C:\\Users\\Sidrcs\\downloads\\landsat_ts.gif\n",
      "ffmpeg is not installed on your computer.\n",
      "Adding GIF to the map ...\n",
      "The timelapse has been added to the map.\n"
     ]
    }
   ],
   "source": [
    "import os\n",
    "\n",
    "#Adding map\n",
    "Map = geemap.Map()\n",
    "#Adding title to GIF\n",
    "label = 'Land Cover/Use Changes in Las Vegas, NV'\n",
    "\n",
    "#Using OS to find the downloads folder to append GIF\n",
    "path = os.path.join(os.path.expanduser('~'), 'downloads')\n",
    "\n",
    "#Defining parameters to render GIF\n",
    "Map.add_landsat_ts_gif(\n",
    "    label=label,\n",
    "    roi=region,\n",
    "    start_year=1985,\n",
    "    bands=['Red', 'Green', 'Blue'],\n",
    "    font_color='white',\n",
    "    frames_per_second=10,\n",
    "    progress_bar_color='#4d9221',\n",
    "    out_gif= path +'/landsat_ts.gif',\n",
    ")"
   ]
  },
  {
   "cell_type": "code",
   "execution_count": null,
   "id": "cfa15850",
   "metadata": {},
   "outputs": [],
   "source": []
  }
 ],
 "metadata": {
  "kernelspec": {
   "display_name": "Python 3 (ipykernel)",
   "language": "python",
   "name": "python3"
  },
  "language_info": {
   "codemirror_mode": {
    "name": "ipython",
    "version": 3
   },
   "file_extension": ".py",
   "mimetype": "text/x-python",
   "name": "python",
   "nbconvert_exporter": "python",
   "pygments_lexer": "ipython3",
   "version": "3.9.7"
  }
 },
 "nbformat": 4,
 "nbformat_minor": 5
}
