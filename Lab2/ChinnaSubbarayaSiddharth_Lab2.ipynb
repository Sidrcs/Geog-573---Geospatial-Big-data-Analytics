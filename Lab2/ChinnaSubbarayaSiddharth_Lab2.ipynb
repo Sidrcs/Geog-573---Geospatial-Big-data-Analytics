{
 "cells": [
  {
   "cell_type": "markdown",
   "id": "053c1762",
   "metadata": {},
   "source": [
    "### Task1: Convert the CityPop.csv file to a JSON file, save as CityPop.json."
   ]
  },
  {
   "cell_type": "code",
   "execution_count": 1,
   "id": "5161bc80",
   "metadata": {},
   "outputs": [],
   "source": [
    "#importing all necessary libraries\n",
    "import os\n",
    "import sys\n",
    "import pandas as pd\n",
    "import geopandas as gpd\n",
    "import json"
   ]
  },
  {
   "cell_type": "code",
   "execution_count": 6,
   "id": "a202008e",
   "metadata": {},
   "outputs": [
    {
     "name": "stdout",
     "output_type": "stream",
     "text": [
      "D:\\CourseWork_GIS_2022\\Geog 573 - Geospatial Big data Analytics\n",
      "D:\\CourseWork_GIS_2022\\Geog 573 - Geospatial Big data Analytics\n"
     ]
    }
   ],
   "source": [
    "def change_os(path):                         #function to change current working directory\n",
    "    print(os.getcwd())\n",
    "    os.chdir(path)\n",
    "    print(os.getcwd())\n",
    "\n",
    "change_os(r'D:\\CourseWork_GIS_2022\\Geog 573 - Geospatial Big data Analytics')"
   ]
  },
  {
   "cell_type": "code",
   "execution_count": 29,
   "id": "773cae92",
   "metadata": {},
   "outputs": [],
   "source": [
    "try:                                        #Checks if CityPop.csv exists in the path and reads CSV into city_df\n",
    "    if os.path.exists('CityPop.csv'):\n",
    "        print('CityPop.csv exists in the directory>',os.getcwd())\n",
    "        city_df = pd.read_csv('CityPop.csv')\n",
    "        print('CityPop.csv is read successfully into DataFrame \\n')\n",
    "        print(city_df.head())\n",
    "except:                                      #Handles the missing file\n",
    "    print('CityPop.csv does not exists the directory>',os.getcwd())"
   ]
  },
  {
   "cell_type": "code",
   "execution_count": 17,
   "id": "cfb9a396",
   "metadata": {},
   "outputs": [
    {
     "name": "stdout",
     "output_type": "stream",
     "text": [
      "['id', 'latitude', 'longitude', 'city', 'label', 'yr1970', 'yr1975', 'yr1980', 'yr1985', 'yr1990', 'yr1995', 'yr2000', 'yr2005', 'yr2010']\n",
      "id\n",
      "latitude\n",
      "longitude\n",
      "city\n",
      "label\n",
      "yr1970\n",
      "yr1975\n",
      "yr1980\n",
      "yr1985\n",
      "yr1990\n",
      "yr1995\n",
      "yr2000\n",
      "yr2005\n",
      "yr2010\n"
     ]
    }
   ],
   "source": [
    "headers = list(city_df.columns.values)\n",
    "print(headers)"
   ]
  },
  {
   "cell_type": "code",
   "execution_count": 21,
   "id": "e4450c57",
   "metadata": {},
   "outputs": [
    {
     "name": "stdout",
     "output_type": "stream",
     "text": [
      "[{'id': 1, 'latitude': 35.6832085, 'longitude': 139.8089447, 'city': 'Tokyo', 'label': 'Tokyo', 'yr1970': 23.3, 'yr1975': 26.61, 'yr1980': 28.55, 'yr1985': 30.3, 'yr1990': 32.53, 'yr1995': 33.59, 'yr2000': 34.45, 'yr2005': 35.62, 'yr2010': 36.67}, {'id': 2, 'latitude': 28.6082802, 'longitude': 77.2008133, 'city': 'New_Delhi', 'label': 'New Delhi', 'yr1970': 3.53, 'yr1975': 4.43, 'yr1980': 5.56, 'yr1985': 7.33, 'yr1990': 9.73, 'yr1995': 12.41, 'yr2000': 15.73, 'yr2005': 19.49, 'yr2010': 22.16}, {'id': 3, 'latitude': -23.5628395, 'longitude': -46.6546402, 'city': 'Sao_Paulo', 'label': 'Sao Paulo', 'yr1970': 7.62, 'yr1975': 9.61, 'yr1980': 12.09, 'yr1985': 13.39, 'yr1990': 14.78, 'yr1995': 15.95, 'yr2000': 17.1, 'yr2005': 18.65, 'yr2010': 20.26}, {'id': 4, 'latitude': 18.93013, 'longitude': 72.8300934, 'city': 'Mumbai', 'label': 'Mumbai', 'yr1970': 5.81, 'yr1975': 7.08, 'yr1980': 8.66, 'yr1985': 10.34, 'yr1990': 12.31, 'yr1995': 14.11, 'yr2000': 16.09, 'yr2005': 18.21, 'yr2010': 20.04}, {'id': 5, 'latitude': 19.4319592, 'longitude': -99.1331635, 'city': 'Mexico_City', 'label': 'Mexico City', 'yr1970': 8.77, 'yr1975': 10.69, 'yr1980': 13.01, 'yr1985': 14.11, 'yr1990': 15.31, 'yr1995': 16.81, 'yr2000': 18.02, 'yr2005': 18.73, 'yr2010': 19.46}, {'id': 6, 'latitude': 40.7820015, 'longitude': -73.8327026, 'city': 'New_York', 'label': 'New York', 'yr1970': 16.19, 'yr1975': 15.88, 'yr1980': 15.6, 'yr1985': 15.83, 'yr1990': 16.09, 'yr1995': 16.94, 'yr2000': 17.85, 'yr2005': 18.73, 'yr2010': 19.43}, {'id': 7, 'latitude': 31.2551594, 'longitude': 121.4747009, 'city': 'Shanghai', 'label': 'Shanghai', 'yr1970': 6.04, 'yr1975': 5.63, 'yr1980': 5.97, 'yr1985': 6.85, 'yr1990': 7.82, 'yr1995': 10.17, 'yr2000': 13.22, 'yr2005': 15.18, 'yr2010': 16.58}, {'id': 8, 'latitude': 22.5650902, 'longitude': 88.3707809, 'city': 'Kolkata', 'label': 'Kolkata', 'yr1970': 6.93, 'yr1975': 7.89, 'yr1980': 9.03, 'yr1985': 9.95, 'yr1990': 10.89, 'yr1995': 11.92, 'yr2000': 13.06, 'yr2005': 14.28, 'yr2010': 15.55}, {'id': 9, 'latitude': 23.7132301, 'longitude': 90.3995667, 'city': 'Dhaka', 'label': 'Dhaka', 'yr1970': 0.0, 'yr1975': 0.0, 'yr1980': 0.0, 'yr1985': 4.66, 'yr1990': 6.62, 'yr1995': 8.33, 'yr2000': 10.28, 'yr2005': 12.56, 'yr2010': 14.65}, {'id': 10, 'latitude': 24.9267101, 'longitude': 67.0343704, 'city': 'Karachi', 'label': 'Karachi', 'yr1970': 0.0, 'yr1975': 3.99, 'yr1980': 5.05, 'yr1985': 6.03, 'yr1990': 7.15, 'yr1995': 8.47, 'yr2000': 10.02, 'yr2005': 11.62, 'yr2010': 13.12}, {'id': 11, 'latitude': -34.6085091, 'longitude': -58.3734894, 'city': 'Buenos_Aires', 'label': 'Buenos Aires', 'yr1970': 8.1, 'yr1975': 8.74, 'yr1980': 9.42, 'yr1985': 9.96, 'yr1990': 10.51, 'yr1995': 11.15, 'yr2000': 11.85, 'yr2005': 12.55, 'yr2010': 13.07}, {'id': 12, 'latitude': 34.0534897, 'longitude': -118.2453232, 'city': 'Los_Angeles', 'label': 'Los Angeles', 'yr1970': 8.38, 'yr1975': 8.93, 'yr1980': 9.51, 'yr1985': 10.18, 'yr1990': 10.88, 'yr1995': 11.34, 'yr2000': 11.81, 'yr2005': 12.3, 'yr2010': 12.76}, {'id': 13, 'latitude': 39.9065704, 'longitude': 116.3876495, 'city': 'Beijing', 'label': 'Beijing', 'yr1970': 4.43, 'yr1975': 4.83, 'yr1980': 5.37, 'yr1985': 6.02, 'yr1990': 6.79, 'yr1995': 8.14, 'yr2000': 9.76, 'yr2005': 11.45, 'yr2010': 12.39}, {'id': 14, 'latitude': -22.9121609, 'longitude': -43.1750107, 'city': 'Rio_de_Janeiro', 'label': 'Rio de Janeiro', 'yr1970': 6.64, 'yr1975': 7.56, 'yr1980': 8.58, 'yr1985': 9.09, 'yr1990': 9.59, 'yr1995': 10.17, 'yr2000': 10.8, 'yr2005': 11.37, 'yr2010': 11.95}, {'id': 15, 'latitude': 14.58743, 'longitude': 120.9836807, 'city': 'Manila', 'label': 'Manila', 'yr1970': 3.53, 'yr1975': 5.0, 'yr1980': 5.95, 'yr1985': 6.89, 'yr1990': 7.97, 'yr1995': 9.4, 'yr2000': 9.96, 'yr2005': 10.76, 'yr2010': 11.63}, {'id': 16, 'latitude': 35.0763016, 'longitude': 133.5659943, 'city': 'Osaka_Kobe', 'label': 'Osaka-Kobe', 'yr1970': 9.41, 'yr1975': 9.84, 'yr1980': 9.99, 'yr1985': 10.35, 'yr1990': 11.04, 'yr1995': 11.05, 'yr2000': 11.17, 'yr2005': 11.26, 'yr2010': 11.34}, {'id': 17, 'latitude': 37.0051003, 'longitude': -89.1762695, 'city': 'Cairo', 'label': 'Cairo', 'yr1970': 5.58, 'yr1975': 6.45, 'yr1980': 7.35, 'yr1985': 8.33, 'yr1990': 9.06, 'yr1995': 9.71, 'yr2000': 10.17, 'yr2005': 10.56, 'yr2010': 11.0}, {'id': 18, 'latitude': 6.45471, 'longitude': 3.3887601, 'city': 'Lagos', 'label': 'Lagos', 'yr1970': 0.0, 'yr1975': 0.0, 'yr1980': 0.0, 'yr1985': 0.0, 'yr1990': 0.0, 'yr1995': 5.97, 'yr2000': 7.23, 'yr2005': 8.77, 'yr2010': 10.58}, {'id': 19, 'latitude': 55.7569695, 'longitude': 37.6150208, 'city': 'Moscow', 'label': 'Moscow', 'yr1970': 7.11, 'yr1975': 7.62, 'yr1980': 8.14, 'yr1985': 8.58, 'yr1990': 8.99, 'yr1995': 9.2, 'yr2000': 10.0, 'yr2005': 10.42, 'yr2010': 10.55}, {'id': 20, 'latitude': 41.0409584, 'longitude': 28.9857998, 'city': 'Istanbul', 'label': 'Istanbul', 'yr1970': 0.0, 'yr1975': 0.0, 'yr1980': 4.4, 'yr1985': 5.41, 'yr1990': 6.55, 'yr1995': 7.67, 'yr2000': 8.74, 'yr2005': 9.71, 'yr2010': 10.52}, {'id': 21, 'latitude': 48.8569298, 'longitude': 2.3412001, 'city': 'Paris', 'label': 'Paris', 'yr1970': 8.35, 'yr1975': 8.56, 'yr1980': 8.67, 'yr1985': 8.96, 'yr1990': 9.33, 'yr1995': 9.51, 'yr2000': 9.74, 'yr2005': 10.11, 'yr2010': 10.49}, {'id': 22, 'latitude': 37.5150185, 'longitude': 127.0164719, 'city': 'Seoul', 'label': 'Seoul', 'yr1970': 5.31, 'yr1975': 6.81, 'yr1980': 8.26, 'yr1985': 9.55, 'yr1990': 10.54, 'yr1995': 10.26, 'yr2000': 9.92, 'yr2005': 9.83, 'yr2010': 9.77}, {'id': 23, 'latitude': 29.5509491, 'longitude': 106.5193481, 'city': 'Chongqing', 'label': 'Chongqing', 'yr1970': 0.0, 'yr1975': 0.0, 'yr1980': 0.0, 'yr1985': 0.0, 'yr1990': 0.0, 'yr1995': 0.0, 'yr2000': 0.0, 'yr2005': 0.0, 'yr2010': 9.4}, {'id': 24, 'latitude': -6.1714902, 'longitude': 106.8275223, 'city': 'Jakarta', 'label': 'Jakarta', 'yr1970': 3.92, 'yr1975': 4.81, 'yr1980': 5.98, 'yr1985': 7.01, 'yr1990': 8.18, 'yr1995': 8.32, 'yr2000': 8.39, 'yr2005': 8.79, 'yr2010': 9.21}, {'id': 25, 'latitude': 41.8842506, 'longitude': -87.6324463, 'city': 'Chicago', 'label': 'Chicago', 'yr1970': 7.11, 'yr1975': 7.16, 'yr1980': 7.22, 'yr1985': 7.29, 'yr1990': 7.37, 'yr1995': 7.84, 'yr2000': 8.33, 'yr2005': 8.82, 'yr2010': 9.2}, {'id': 26, 'latitude': 22.5562191, 'longitude': 114.1187897, 'city': 'Shenzhen', 'label': 'Shenzhen', 'yr1970': 0.0, 'yr1975': 0.0, 'yr1980': 0.0, 'yr1985': 0.0, 'yr1990': 0.0, 'yr1995': 0.0, 'yr2000': 0.0, 'yr2005': 7.93, 'yr2010': 9.01}, {'id': 27, 'latitude': -12.0561399, 'longitude': -77.0268021, 'city': 'Lima', 'label': 'Lima', 'yr1970': 0.0, 'yr1975': 3.7, 'yr1980': 4.44, 'yr1985': 5.12, 'yr1990': 5.84, 'yr1995': 6.58, 'yr2000': 7.29, 'yr2005': 8.08, 'yr2010': 8.94}, {'id': 28, 'latitude': 23.1133709, 'longitude': 113.2552338, 'city': 'Guangzhou', 'label': 'Guangzhou', 'yr1970': 0.0, 'yr1975': 0.0, 'yr1980': 0.0, 'yr1985': 0.0, 'yr1990': 0.0, 'yr1995': 0.0, 'yr2000': 7.33, 'yr2005': 8.16, 'yr2010': 8.88}, {'id': 29, 'latitude': -4.3122201, 'longitude': 15.2895298, 'city': 'Kinshasa', 'label': 'Kinshasa', 'yr1970': 0.0, 'yr1975': 0.0, 'yr1980': 0.0, 'yr1985': 0.0, 'yr1990': 0.0, 'yr1995': 0.0, 'yr2000': 0.0, 'yr2005': 0.0, 'yr2010': 8.75}, {'id': 30, 'latitude': 51.5064316, 'longitude': -0.12719, 'city': 'London', 'label': 'London', 'yr1970': 7.51, 'yr1975': 7.55, 'yr1980': 7.66, 'yr1985': 7.67, 'yr1990': 7.65, 'yr1995': 7.91, 'yr2000': 8.22, 'yr2005': 8.51, 'yr2010': 8.63}, {'id': 31, 'latitude': 39.1449394, 'longitude': 117.2005692, 'city': 'Tianjin', 'label': 'Tianjin', 'yr1970': 3.32, 'yr1975': 0.0, 'yr1980': 0.0, 'yr1985': 0.0, 'yr1990': 0.0, 'yr1995': 0.0, 'yr2000': 6.67, 'yr2005': 7.28, 'yr2010': 0.0}, {'id': 32, 'latitude': 22.3361568, 'longitude': 114.1869659, 'city': 'Hong_Kong', 'label': 'Hong Kong', 'yr1970': 3.46, 'yr1975': 3.94, 'yr1980': 4.61, 'yr1985': 5.07, 'yr1990': 5.68, 'yr1995': 6.21, 'yr2000': 6.67, 'yr2005': 0.0, 'yr2010': 0.0}, {'id': 33, 'latitude': 35.6895409, 'longitude': 51.4146843, 'city': 'Tehran', 'label': 'Tehran', 'yr1970': 3.29, 'yr1975': 4.27, 'yr1980': 5.08, 'yr1985': 5.84, 'yr1990': 6.36, 'yr1995': 6.69, 'yr2000': 6.88, 'yr2005': 0.0, 'yr2010': 0.0}, {'id': 34, 'latitude': 13.0503302, 'longitude': 80.188591, 'city': 'Chennai', 'label': 'Chennai', 'yr1970': 0.0, 'yr1975': 0.0, 'yr1980': 0.0, 'yr1985': 4.75, 'yr1990': 5.34, 'yr1995': 5.84, 'yr2000': 0.0, 'yr2005': 0.0, 'yr2010': 0.0}, {'id': 35, 'latitude': 13.7533503, 'longitude': 100.5048294, 'city': 'Bangkok', 'label': 'Bangkok', 'yr1970': 0.0, 'yr1975': 3.84, 'yr1980': 4.72, 'yr1985': 5.28, 'yr1990': 5.89, 'yr1995': 6.11, 'yr2000': 0.0, 'yr2005': 0.0, 'yr2010': 0.0}, {'id': 36, 'latitude': 59.9331818, 'longitude': 30.3060303, 'city': 'Saint_Petersburg', 'label': 'St. Petersburg', 'yr1970': 3.98, 'yr1975': 4.33, 'yr1980': 4.64, 'yr1985': 4.84, 'yr1990': 4.99, 'yr1995': 0.0, 'yr2000': 0.0, 'yr2005': 0.0, 'yr2010': 0.0}, {'id': 37, 'latitude': 40.4514008, 'longitude': -3.5631499, 'city': 'Madrid', 'label': 'Madrid', 'yr1970': 3.52, 'yr1975': 3.89, 'yr1980': 4.25, 'yr1985': 0.0, 'yr1990': 0.0, 'yr1995': 0.0, 'yr2000': 0.0, 'yr2005': 0.0, 'yr2010': 0.0}, {'id': 38, 'latitude': 39.9522781, 'longitude': -75.1624527, 'city': 'Philadelphia', 'label': 'Philadelphia', 'yr1970': 4.4, 'yr1975': 4.47, 'yr1980': 4.54, 'yr1985': 0.0, 'yr1990': 0.0, 'yr1995': 0.0, 'yr2000': 0.0, 'yr2005': 0.0, 'yr2010': 0.0}, {'id': 39, 'latitude': 42.3316803, 'longitude': -83.0479202, 'city': 'Detroit', 'label': 'Detroit', 'yr1970': 3.97, 'yr1975': 3.89, 'yr1980': 0.0, 'yr1985': 0.0, 'yr1990': 0.0, 'yr1995': 0.0, 'yr2000': 0.0, 'yr2005': 0.0, 'yr2010': 0.0}]\n"
     ]
    }
   ],
   "source": [
    "pop_list = []\n",
    "for row in city_df.itertuples(index=True):\n",
    "    city_dict = {}\n",
    "    for header in headers:\n",
    "        city_dict[header]=getattr(row,header)\n",
    "    pop_list.append(city_dict)\n",
    "    \n",
    "print(pop_list)"
   ]
  },
  {
   "cell_type": "code",
   "execution_count": 31,
   "id": "def3a37e",
   "metadata": {},
   "outputs": [
    {
     "name": "stdout",
     "output_type": "stream",
     "text": [
      "CityPop.json is re-created\n",
      "Type of file: <class 'str'>\n"
     ]
    }
   ],
   "source": [
    "def list2json(listvariable,newFile='CityPop'):\n",
    "    json_data = json.dumps(listvariable)\n",
    "    if os.path.exists(f'{newFile}.json'):\n",
    "        os.remove(f'{newFile}.json')\n",
    "        with open(f'{newFile}.json','w') as json_file:\n",
    "            json_file.write(json_data)\n",
    "        print(f'{newFile}.json is re-created')\n",
    "        print('Type of file:',type(json_data))\n",
    "    else:\n",
    "        with open(f'{newFile}.json','w') as json_file:\n",
    "            json_file.write(json_data)\n",
    "        print(f'{newFile}.json is created')\n",
    "        print('Type of file:',type(json_data))\n",
    "        \n",
    "list2json(pop_list)"
   ]
  },
  {
   "cell_type": "markdown",
   "id": "3775e795",
   "metadata": {},
   "source": [
    "### Task 2: Convert the CityPop.json file to a GeoJSON file, save as CityPop_geojson.json."
   ]
  },
  {
   "cell_type": "code",
   "execution_count": 60,
   "id": "b1a44f15",
   "metadata": {},
   "outputs": [
    {
     "name": "stdout",
     "output_type": "stream",
     "text": [
      "<class 'list'>\n"
     ]
    }
   ],
   "source": [
    "with open('CityPop.json','r') as json_file: #open CityPop.json and manipulate it to a Python Object ~ list\n",
    "    city_data = json.load(json_file) #json.load() method converts from JSON to list\n",
    "print(type(city_data))"
   ]
  },
  {
   "cell_type": "code",
   "execution_count": 66,
   "id": "bd6a1719",
   "metadata": {},
   "outputs": [],
   "source": [
    "#create an empty dictionary that depicts structure of geojson\n",
    "geojson = {\n",
    "    \"type\":\"FeatureCollection\",\n",
    "    \"features\":[]\n",
    "}"
   ]
  },
  {
   "cell_type": "code",
   "execution_count": 67,
   "id": "03b98c25",
   "metadata": {},
   "outputs": [
    {
     "name": "stdout",
     "output_type": "stream",
     "text": [
      "['id', 'latitude', 'longitude', 'city', 'label', 'yr1970', 'yr1975', 'yr1980', 'yr1985', 'yr1990', 'yr1995', 'yr2000', 'yr2005', 'yr2010']\n"
     ]
    }
   ],
   "source": [
    "print(headers)"
   ]
  },
  {
   "cell_type": "code",
   "execution_count": 68,
   "id": "0e935ae5",
   "metadata": {},
   "outputs": [],
   "source": [
    "#city initializes each dictionary key-value pairs from city_data list, which is a list of dictionaries\n",
    "\n",
    "for city in city_data:\n",
    "    city_feature = {\n",
    "        \"type\":\"Feature\",\n",
    "        \"geometry\":{\n",
    "            \"type\":\"Point\",\n",
    "            \"coordinates\":[city['longitude'],city['latitude']]\n",
    "        },\n",
    "        \"properties\":{\n",
    "            \"id\":city[\"id\"],\n",
    "            \"latitude\":city[\"latitude\"],\n",
    "            \"longitude\":city[\"longitude\"],\n",
    "            \"city\":city[\"city\"],\n",
    "            \"label\":city[\"label\"],\n",
    "            \"yr1970\":city[\"yr1970\"],\n",
    "            \"yr1975\":city[\"yr1975\"],\n",
    "            \"yr1980\":city[\"yr1980\"],\n",
    "            \"yr1985\":city[\"yr1985\"],\n",
    "            \"yr1990\":city[\"yr1990\"],\n",
    "            \"yr1995\":city[\"yr1995\"],\n",
    "            \"yr2000\":city[\"yr2000\"],\n",
    "            \"yr2010\":city[\"yr2010\"],\n",
    "        }\n",
    "    }\n",
    "    \n",
    "    geojson[\"features\"].append(city_feature)\n",
    "    \n",
    "geojson = json.dumps(geojson) #creates JSON object format and loads into geojson"
   ]
  },
  {
   "cell_type": "code",
   "execution_count": 70,
   "id": "52a4f908",
   "metadata": {},
   "outputs": [
    {
     "name": "stdout",
     "output_type": "stream",
     "text": [
      "File exists and CityPop_geojson.json is recreated !\n"
     ]
    }
   ],
   "source": [
    "#writes geojson dictionary format into a JSON file\n",
    "if os.path.exists('CityPop_geojson.json'):\n",
    "    os.remove('CityPop_geojson.json')\n",
    "    with open('CityPop_geojson.json','w') as json_file:\n",
    "        json_file.write(geojson)\n",
    "    print('File exists and CityPop_geojson.json is recreated !')\n",
    "else:\n",
    "    with open('CityPop_geojson.json','w') as json_file:\n",
    "        json_file.write(geojson)\n",
    "    print('CityPop_geojson.json is created !')"
   ]
  },
  {
   "cell_type": "markdown",
   "id": "b0a94024",
   "metadata": {},
   "source": [
    "### Task3: Convert the CityPop_geojson.json file to a Shp file, save as CityPop.shp."
   ]
  },
  {
   "cell_type": "code",
   "execution_count": 107,
   "id": "e9e795f4",
   "metadata": {},
   "outputs": [],
   "source": [
    "city_gdf=gpd.read_file('CityPop_geojson.json')\n",
    "city_gdf.to_file('CityPop.shp', driver='ESRI Shapefile')"
   ]
  },
  {
   "cell_type": "markdown",
   "id": "e6ac0d2e",
   "metadata": {},
   "source": [
    "### Task 4: Load the CityPop.shp file and create a simple map with world map as basemap"
   ]
  },
  {
   "cell_type": "code",
   "execution_count": 100,
   "id": "c5af5848",
   "metadata": {
    "scrolled": true
   },
   "outputs": [
    {
     "data": {
      "text/plain": [
       "<matplotlib.legend.Legend at 0x2f0b58013a0>"
      ]
     },
     "execution_count": 100,
     "metadata": {},
     "output_type": "execute_result"
    },
    {
     "data": {
      "image/png": "[encoded data removed]",
      "text/plain": [
       "<Figure size 432x288 with 1 Axes>"
      ]
     },
     "metadata": {
      "needs_background": "light"
     },
     "output_type": "display_data"
    }
   ],
   "source": [
    "world = gpd.read_file(gpd.datasets.get_path('naturalearth_lowres'))\n",
    "base = world.plot(color=\"#E3DA93\", edgecolor=\"#6E6E6E\")\n",
    "city_gdf.plot(ax=base, marker='^', color=\"#005489\", markersize=10, label='Cities')\n",
    "base.legend()"
   ]
  },
  {
   "cell_type": "code",
   "execution_count": null,
   "id": "5a9889ae",
   "metadata": {},
   "outputs": [],
   "source": []
  }
 ],
 "metadata": {
  "kernelspec": {
   "display_name": "Python 3 (ipykernel)",
   "language": "python",
   "name": "python3"
  },
  "language_info": {
   "codemirror_mode": {
    "name": "ipython",
    "version": 3
   },
   "file_extension": ".py",
   "mimetype": "text/x-python",
   "name": "python",
   "nbconvert_exporter": "python",
   "pygments_lexer": "ipython3",
   "version": "3.9.7"
  }
 },
 "nbformat": 4,
 "nbformat_minor": 5
}
