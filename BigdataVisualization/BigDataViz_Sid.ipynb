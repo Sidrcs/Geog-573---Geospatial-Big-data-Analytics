{
 "cells": [
  {
   "cell_type": "markdown",
   "id": "c9f05931",
   "metadata": {},
   "source": [
    "### Task 1: Visualization Human Mobility data from GeoDS Lab"
   ]
  },
  {
   "cell_type": "code",
   "execution_count": 44,
   "id": "e4fad7b8",
   "metadata": {},
   "outputs": [],
   "source": [
    "import pandas as pd\n",
    "import numpy as np\n",
    "import wget, os, json\n",
    "import geopandas as gpd\n",
    "import matplotlib.pyplot as plt"
   ]
  },
  {
   "cell_type": "markdown",
   "id": "4f987a8a",
   "metadata": {},
   "source": [
    "Data loaded from SafeGraph GeoDS@UW-Madison Lab - <a href = \"https://github.com/GeoDS/COVID19USFlows\"> GitHub </a>"
   ]
  },
  {
   "cell_type": "code",
   "execution_count": 51,
   "id": "afc4e878",
   "metadata": {},
   "outputs": [
    {
     "name": "stdout",
     "output_type": "stream",
     "text": [
      "file exists in path:C:\\Users\\Sidrcs\\Documents\\Github\\Geospatial_BigData_Analytics\\BigdataVisualization+\\+weekly_ct2ct_2021_07_05_0.csv\n"
     ]
    }
   ],
   "source": [
    "# checks the file and download if it not present in the path\n",
    "\n",
    "file = \"weekly_ct2ct_2021_07_05_0.csv\"\n",
    "if not os.path.exists(file):\n",
    "    url = \"https://raw.githubusercontent.com/GeoDS/COVID19USFlows-WeeklyFlows-Ct2021/master/weekly_flows/ct2ct/2021_07_05/weekly_ct2ct_2021_07_05_0.csv\"\n",
    "    wget.download(url)\n",
    "else:\n",
    "    print(f\"file exists in path:{os.getcwd()}+\\+{file}\")"
   ]
  },
  {
   "cell_type": "code",
   "execution_count": 6,
   "id": "0579760f",
   "metadata": {},
   "outputs": [],
   "source": [
    "# read and display the downloaded csv\n",
    "flow_df = pd.read_csv(\"weekly_ct2ct_2021_07_05_0.csv\")\n",
    "flow_df.head()"
   ]
  },
  {
   "cell_type": "markdown",
   "id": "a58c71b5",
   "metadata": {},
   "source": [
    "For visualization in <a href = \"https://kepler.gl/demo\"> kepler.gl </a>, preprocessing SafeGraph data. Also, finding unique and most frequent geoid origin through <code>value_counts()</code> method. For the given dataset, it is based in <b> Orange county, FL</b>. Therefore, the origin geoid is <code>12095017103</code>"
   ]
  },
  {
   "cell_type": "code",
   "execution_count": 11,
   "id": "3d8e8904",
   "metadata": {},
   "outputs": [
    {
     "data": {
      "text/plain": [
       "12095017103    2438\n",
       "48157673101    2026\n",
       "48439114103    1490\n",
       "48339692001    1438\n",
       "48157673200    1366\n",
       "               ... \n",
       "1047957200       31\n",
       "1097007700       30\n",
       "23009966400      28\n",
       "1087231700       14\n",
       "2188000200       11\n",
       "Name: geoid_o, Length: 2179, dtype: int64"
      ]
     },
     "execution_count": 11,
     "metadata": {},
     "output_type": "execute_result"
    }
   ],
   "source": [
    "flow_df.geoid_o.value_counts()"
   ]
  },
  {
   "cell_type": "code",
   "execution_count": 12,
   "id": "c8318706",
   "metadata": {},
   "outputs": [
    {
     "data": {
      "text/plain": [
       "geoid_o                             int64\n",
       "geoid_d                             int64\n",
       "lng_o                             float64\n",
       "lat_o                             float64\n",
       "lng_d                             float64\n",
       "lat_d                             float64\n",
       "number_devices_primary_daytime      int64\n",
       "date_range                         object\n",
       "visitor_flows                       int64\n",
       "pop_flows                         float64\n",
       "dtype: object"
      ]
     },
     "execution_count": 12,
     "metadata": {},
     "output_type": "execute_result"
    }
   ],
   "source": [
    "flow_df.dtypes # determines data types present"
   ]
  },
  {
   "cell_type": "code",
   "execution_count": 27,
   "id": "18027ccf",
   "metadata": {},
   "outputs": [],
   "source": [
    "# type casting origin county and destination geoids to string\n",
    "flow_df['geoid_o']=flow_df['geoid_o'].apply(lambda x: str(x).zfill(11))\n",
    "flow_df['geoid_d']=flow_df['geoid_d'].apply(lambda x: str(x).zfill(11))"
   ]
  },
  {
   "cell_type": "code",
   "execution_count": 28,
   "id": "e2ced422",
   "metadata": {},
   "outputs": [
    {
     "data": {
      "text/plain": [
       "geoid_o                            object\n",
       "geoid_d                            object\n",
       "lng_o                             float64\n",
       "lat_o                             float64\n",
       "lng_d                             float64\n",
       "lat_d                             float64\n",
       "number_devices_primary_daytime      int64\n",
       "date_range                         object\n",
       "visitor_flows                       int64\n",
       "pop_flows                         float64\n",
       "dtype: object"
      ]
     },
     "execution_count": 28,
     "metadata": {},
     "output_type": "execute_result"
    }
   ],
   "source": [
    "# to confirm conversion\n",
    "flow_df.dtypes"
   ]
  },
  {
   "cell_type": "code",
   "execution_count": 29,
   "id": "fed8138a",
   "metadata": {},
   "outputs": [
    {
     "data": {
      "text/html": [
       "<div>\n",
       "<style scoped>\n",
       "    .dataframe tbody tr th:only-of-type {\n",
       "        vertical-align: middle;\n",
       "    }\n",
       "\n",
       "    .dataframe tbody tr th {\n",
       "        vertical-align: top;\n",
       "    }\n",
       "\n",
       "    .dataframe thead th {\n",
       "        text-align: right;\n",
       "    }\n",
       "</style>\n",
       "<table border=\"1\" class=\"dataframe\">\n",
       "  <thead>\n",
       "    <tr style=\"text-align: right;\">\n",
       "      <th></th>\n",
       "      <th>geoid_o</th>\n",
       "      <th>geoid_d</th>\n",
       "      <th>lng_o</th>\n",
       "      <th>lat_o</th>\n",
       "      <th>lng_d</th>\n",
       "      <th>lat_d</th>\n",
       "      <th>number_devices_primary_daytime</th>\n",
       "      <th>date_range</th>\n",
       "      <th>visitor_flows</th>\n",
       "      <th>pop_flows</th>\n",
       "    </tr>\n",
       "  </thead>\n",
       "  <tbody>\n",
       "    <tr>\n",
       "      <th>0</th>\n",
       "      <td>01001020100</td>\n",
       "      <td>01001020100</td>\n",
       "      <td>-86.490076</td>\n",
       "      <td>32.477185</td>\n",
       "      <td>-86.490076</td>\n",
       "      <td>32.477185</td>\n",
       "      <td>227</td>\n",
       "      <td>07/05/21 - 07/11/21</td>\n",
       "      <td>74</td>\n",
       "      <td>691.0</td>\n",
       "    </tr>\n",
       "    <tr>\n",
       "      <th>1</th>\n",
       "      <td>01001020100</td>\n",
       "      <td>01001020200</td>\n",
       "      <td>-86.490076</td>\n",
       "      <td>32.477185</td>\n",
       "      <td>-86.473375</td>\n",
       "      <td>32.474248</td>\n",
       "      <td>227</td>\n",
       "      <td>07/05/21 - 07/11/21</td>\n",
       "      <td>70</td>\n",
       "      <td>654.0</td>\n",
       "    </tr>\n",
       "    <tr>\n",
       "      <th>2</th>\n",
       "      <td>01001020100</td>\n",
       "      <td>01001020300</td>\n",
       "      <td>-86.490076</td>\n",
       "      <td>32.477185</td>\n",
       "      <td>-86.460190</td>\n",
       "      <td>32.475428</td>\n",
       "      <td>227</td>\n",
       "      <td>07/05/21 - 07/11/21</td>\n",
       "      <td>156</td>\n",
       "      <td>1458.0</td>\n",
       "    </tr>\n",
       "    <tr>\n",
       "      <th>3</th>\n",
       "      <td>01001020100</td>\n",
       "      <td>01001020400</td>\n",
       "      <td>-86.490076</td>\n",
       "      <td>32.477185</td>\n",
       "      <td>-86.443624</td>\n",
       "      <td>32.472001</td>\n",
       "      <td>227</td>\n",
       "      <td>07/05/21 - 07/11/21</td>\n",
       "      <td>91</td>\n",
       "      <td>850.0</td>\n",
       "    </tr>\n",
       "    <tr>\n",
       "      <th>4</th>\n",
       "      <td>01001020100</td>\n",
       "      <td>01001020500</td>\n",
       "      <td>-86.490076</td>\n",
       "      <td>32.477185</td>\n",
       "      <td>-86.422661</td>\n",
       "      <td>32.458833</td>\n",
       "      <td>227</td>\n",
       "      <td>07/05/21 - 07/11/21</td>\n",
       "      <td>425</td>\n",
       "      <td>3973.0</td>\n",
       "    </tr>\n",
       "  </tbody>\n",
       "</table>\n",
       "</div>"
      ],
      "text/plain": [
       "       geoid_o      geoid_d      lng_o      lat_o      lng_d      lat_d  \\\n",
       "0  01001020100  01001020100 -86.490076  32.477185 -86.490076  32.477185   \n",
       "1  01001020100  01001020200 -86.490076  32.477185 -86.473375  32.474248   \n",
       "2  01001020100  01001020300 -86.490076  32.477185 -86.460190  32.475428   \n",
       "3  01001020100  01001020400 -86.490076  32.477185 -86.443624  32.472001   \n",
       "4  01001020100  01001020500 -86.490076  32.477185 -86.422661  32.458833   \n",
       "\n",
       "   number_devices_primary_daytime           date_range  visitor_flows  \\\n",
       "0                             227  07/05/21 - 07/11/21             74   \n",
       "1                             227  07/05/21 - 07/11/21             70   \n",
       "2                             227  07/05/21 - 07/11/21            156   \n",
       "3                             227  07/05/21 - 07/11/21             91   \n",
       "4                             227  07/05/21 - 07/11/21            425   \n",
       "\n",
       "   pop_flows  \n",
       "0      691.0  \n",
       "1      654.0  \n",
       "2     1458.0  \n",
       "3      850.0  \n",
       "4     3973.0  "
      ]
     },
     "execution_count": 29,
     "metadata": {},
     "output_type": "execute_result"
    }
   ],
   "source": [
    "flow_df.head(5)"
   ]
  },
  {
   "cell_type": "markdown",
   "id": "ccdc0a8e",
   "metadata": {},
   "source": [
    "Slicing the data from one origin geoid to several destination geoids based most frequent origin geoid in the dataset. It is in Orange county, FL"
   ]
  },
  {
   "cell_type": "code",
   "execution_count": 42,
   "id": "07b2c7db",
   "metadata": {},
   "outputs": [],
   "source": [
    "# slicing flow_df based on geoid_o and geoid_d\n",
    "one_flow_df = flow_df[(flow_df[\"geoid_o\"].str.startswith(\"12095016902\")) & flow_df[\"geoid_d\"].str.startswith(\"12095\")]"
   ]
  },
  {
   "cell_type": "code",
   "execution_count": 43,
   "id": "db48ac08",
   "metadata": {},
   "outputs": [],
   "source": [
    "# exporting to csv for Kepler.gl visualization\n",
    "one_flow_df.to_csv('Kepler_viz_data.csv')"
   ]
  },
  {
   "cell_type": "code",
   "execution_count": null,
   "id": "47506628",
   "metadata": {},
   "outputs": [],
   "source": []
  }
 ],
 "metadata": {
  "kernelspec": {
   "display_name": "Python 3 (ipykernel)",
   "language": "python",
   "name": "python3"
  },
  "language_info": {
   "codemirror_mode": {
    "name": "ipython",
    "version": 3
   },
   "file_extension": ".py",
   "mimetype": "text/x-python",
   "name": "python",
   "nbconvert_exporter": "python",
   "pygments_lexer": "ipython3",
   "version": "3.9.7"
  }
 },
 "nbformat": 4,
 "nbformat_minor": 5
}
